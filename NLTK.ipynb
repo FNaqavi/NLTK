{
 "cells": [
  {
   "cell_type": "code",
   "execution_count": 1,
   "id": "ef528428-eabb-43e2-b60f-a0738b490541",
   "metadata": {},
   "outputs": [],
   "source": [
    "# Import necessary libraries\n",
    "import nltk\n",
    "import re\n",
    "from nltk.tokenize import sent_tokenize, word_tokenize\n",
    "from nltk.corpus import stopwords\n",
    "from nltk.stem.porter import PorterStemmer"
   ]
  },
  {
   "cell_type": "code",
   "execution_count": 2,
   "id": "c3f28337-9c64-4281-88a2-2e39078ffe9f",
   "metadata": {},
   "outputs": [
    {
     "name": "stdout",
     "output_type": "stream",
     "text": [
      "Enter your text:\n"
     ]
    },
    {
     "name": "stdin",
     "output_type": "stream",
     "text": [
      " Human progress is a testament to humanity's insatiable curiosity, innovation, and collaborative spirit. Through the ages, our pursuit of knowledge has led to transformative discoveries and advancements in science, technology, and culture. While progress has brought about profound improvements in quality of life, it also presents challenges and ethical dilemmas. However, by embracing the values of curiosity, innovation, and collaboration, we can navigate these complexities and continue to advance towards a more prosperous, sustainable, and equitable future.\n"
     ]
    }
   ],
   "source": [
    "print('Enter your text:')\n",
    "text = input()"
   ]
  },
  {
   "cell_type": "code",
   "execution_count": 3,
   "id": "ab00d367-69ca-44d2-9e36-b81a2419d586",
   "metadata": {},
   "outputs": [
    {
     "name": "stdout",
     "output_type": "stream",
     "text": [
      "\n",
      "Summary:\n",
      "While progress has brought about profound improvements in quality of life, it also presents challenges and ethical dilemmas.\n"
     ]
    }
   ],
   "source": [
    "\n",
    "\n",
    "# Example Text (for test)\n",
    "# text = \"\"\" Human progress is a testament to humanity's insatiable curiosity, innovation,\n",
    "# and collaborative spirit. Through the ages, our pursuit of knowledge has led to\n",
    "# transformative discoveries and advancements in science, technology, and culture.\n",
    "# While progress has brought about profound improvements in quality of life,\n",
    "# it also presents challenges and ethical dilemmas. However, by embracing the\n",
    "# values of curiosity, innovation, and collaboration, we can navigate these\n",
    "# complexities and continue to advance towards a more prosperous, sustainable, and equitable future.\"\"\"\n",
    "\n",
    "\n",
    "# Tokenization, Removing Stopwords, and Stemming\n",
    "stop_words = set(stopwords.words(\"english\"))\n",
    "sentences = sent_tokenize(text)\n",
    "\n",
    "\n",
    "def text_process(sentence):\n",
    "    # Clean and normalize text data by removing punctuation or special characters\n",
    "    sentence = re.sub(r\"[^a-zA-Z0-9]\", \" \", sentence)\n",
    "\n",
    "    # Tokenization\n",
    "    words_in_quote = word_tokenize(sentence)\n",
    "\n",
    "    # Remove stopwords\n",
    "    filtered_words = [word for word in words_in_quote if word.casefold() not in stop_words]\n",
    "\n",
    "    # Stemming\n",
    "    stemmer = PorterStemmer()\n",
    "    stemmed = [stemmer.stem(w) for w in filtered_words]\n",
    "\n",
    "    return stemmed\n",
    "\n",
    "\n",
    "# Preprocess each sentence\n",
    "sentences_processes = [text_process(sentence) for sentence in sentences]\n",
    "\n",
    "# Calculate word frequency\n",
    "word_frequencies = nltk.FreqDist(word_tokenize(text))\n",
    "\n",
    "\n",
    "def score_sentences(sentence, word_freq):\n",
    "    sentence_score = {}\n",
    "\n",
    "    for i, sentence in enumerate(sentence):\n",
    "        score = sum(word_freq[word] for word in sentence if word in word_freq)\n",
    "        sentence_score[i] = score\n",
    "\n",
    "    return sentence_score\n",
    "\n",
    "\n",
    "# Generate sentence scores\n",
    "sentence_scores = score_sentences(sentences_processes, word_frequencies)\n",
    "\n",
    "# Generate a summary by selecting top sentences\n",
    "summary_sentences = []\n",
    "sentence_length = len(sentences)\n",
    "summary_length = int(sentence_length / 3)\n",
    "if sentence_scores:\n",
    "    sorted_scores = sorted(sentence_scores.items(), key=lambda x: x[1], reverse=True)\n",
    "    top_sentences = sorted_scores[:summary_length]  # Select the top 3 sentences as the summary\n",
    "\n",
    "    for index, _ in top_sentences:\n",
    "        summary_sentences.append(sentences[index])\n",
    "\n",
    "# Join the summary sentences to create the final summary\n",
    "summary = ' '.join(summary_sentences)\n",
    "\n",
    "# Print the summary\n",
    "print(\"\\nSummary:\")\n",
    "print(summary)\n"
   ]
  },
  {
   "cell_type": "code",
   "execution_count": null,
   "id": "de5dd765-9de9-4af6-83c6-0ab29d84fafe",
   "metadata": {},
   "outputs": [],
   "source": []
  }
 ],
 "metadata": {
  "kernelspec": {
   "display_name": "Python 3 (ipykernel)",
   "language": "python",
   "name": "python3"
  },
  "language_info": {
   "codemirror_mode": {
    "name": "ipython",
    "version": 3
   },
   "file_extension": ".py",
   "mimetype": "text/x-python",
   "name": "python",
   "nbconvert_exporter": "python",
   "pygments_lexer": "ipython3",
   "version": "3.11.7"
  }
 },
 "nbformat": 4,
 "nbformat_minor": 5
}
